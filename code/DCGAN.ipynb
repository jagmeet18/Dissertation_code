{
 "cells": [
  {
   "cell_type": "code",
   "execution_count": 2,
   "id": "490f4cdf",
   "metadata": {},
   "outputs": [],
   "source": [
    "import tensorflow as tf\n",
    "from tensorflow import keras\n",
    "from tensorflow.keras import layers\n",
    "import numpy as np\n",
    "import matplotlib.pyplot as plt\n",
    "import os\n",
    "from os import listdir\n",
    "import gdown\n",
    "from zipfile import ZipFile"
   ]
  },
  {
   "cell_type": "code",
   "execution_count": 18,
   "id": "0a0e741e",
   "metadata": {
    "scrolled": true
   },
   "outputs": [
    {
     "name": "stdout",
     "output_type": "stream",
     "text": [
      "Found 4445 files belonging to 1 classes.\n"
     ]
    }
   ],
   "source": [
    "data= tf.keras.utils.image_dataset_from_directory('DataB_pepper', label_mode = None,  batch_size = 16, image_size = (32,32))\n",
    "len(data)\n",
    "data = data.map(lambda x: x/255)"
   ]
  },
  {
   "cell_type": "code",
   "execution_count": 19,
   "id": "af600f98",
   "metadata": {
    "scrolled": true
   },
   "outputs": [
    {
     "data": {
      "image/png": "[encoded data removed]",
      "text/plain": [
       "<Figure size 640x480 with 1 Axes>"
      ]
     },
     "metadata": {},
     "output_type": "display_data"
    }
   ],
   "source": [
    "for x in data:\n",
    "    plt.axis(\"off\")\n",
    "    plt.imshow((x.numpy() * 255).astype(\"int32\")[0])\n",
    "    break"
   ]
  },
  {
   "cell_type": "code",
   "execution_count": 20,
   "id": "2764ea1e",
   "metadata": {},
   "outputs": [],
   "source": [
    "#data_iterator = data.as_numpy_iterator()\n",
    "#batch = data_iterator.next()\n",
    "# class 0 in the batch is real images of the plants\n",
    "# shape of the images is (128,64,64,3)\n",
    "# batch size is 128\n"
   ]
  },
  {
   "cell_type": "code",
   "execution_count": 21,
   "id": "8f1e3bc9",
   "metadata": {},
   "outputs": [
    {
     "data": {
      "text/plain": [
       "tensorflow.python.data.ops.dataset_ops.MapDataset"
      ]
     },
     "execution_count": 21,
     "metadata": {},
     "output_type": "execute_result"
    }
   ],
   "source": [
    "type(data)"
   ]
  },
  {
   "cell_type": "code",
   "execution_count": 22,
   "id": "fbd2960d",
   "metadata": {},
   "outputs": [
    {
     "name": "stdout",
     "output_type": "stream",
     "text": [
      "Model: \"discriminator\"\n",
      "_________________________________________________________________\n",
      "Layer (type)                 Output Shape              Param #   \n",
      "=================================================================\n",
      "conv2d_4 (Conv2D)            (None, 16, 16, 64)        3136      \n",
      "_________________________________________________________________\n",
      "leaky_re_lu_5 (LeakyReLU)    (None, 16, 16, 64)        0         \n",
      "_________________________________________________________________\n",
      "conv2d_5 (Conv2D)            (None, 8, 8, 128)         131200    \n",
      "_________________________________________________________________\n",
      "leaky_re_lu_6 (LeakyReLU)    (None, 8, 8, 128)         0         \n",
      "_________________________________________________________________\n",
      "conv2d_6 (Conv2D)            (None, 4, 4, 128)         262272    \n",
      "_________________________________________________________________\n",
      "leaky_re_lu_7 (LeakyReLU)    (None, 4, 4, 128)         0         \n",
      "_________________________________________________________________\n",
      "flatten_1 (Flatten)          (None, 2048)              0         \n",
      "_________________________________________________________________\n",
      "dropout_1 (Dropout)          (None, 2048)              0         \n",
      "_________________________________________________________________\n",
      "dense_2 (Dense)              (None, 1)                 2049      \n",
      "=================================================================\n",
      "Total params: 398,657\n",
      "Trainable params: 398,657\n",
      "Non-trainable params: 0\n",
      "_________________________________________________________________\n"
     ]
    }
   ],
   "source": [
    "################# DISCRIMINATOR NETWORK ######################\n",
    "# model name\n",
    "discriminator = keras.Sequential(name = \"discriminator\")\n",
    "# input layer\n",
    "discriminator.add(keras.Input(shape=(32,32,3),))\n",
    "# hidden layer 1\n",
    "discriminator.add(layers.Conv2D(64, kernel_size = (4,4), strides = (2,2), padding=\"same\"))\n",
    "discriminator.add(layers.LeakyReLU(0.2))\n",
    "# hidden layer 2\n",
    "discriminator.add(layers.Conv2D(128, kernel_size = (4,4), strides = (2,2), padding=\"same\"))\n",
    "discriminator.add(layers.LeakyReLU(0.2))\n",
    "# hidden layer 3\n",
    "discriminator.add(layers.Conv2D(128, kernel_size = (4,4), strides = (2,2), padding=\"same\"))\n",
    "discriminator.add(layers.LeakyReLU(0.2))\n",
    "# output layer \n",
    "discriminator.add(layers.Flatten())\n",
    "discriminator.add(layers.Dropout(0.2))\n",
    "discriminator.add(layers.Dense(1, activation=\"tanh\"))\n",
    "# summary of the model\n",
    "discriminator.summary()"
   ]
  },
  {
   "cell_type": "code",
   "execution_count": 23,
   "id": "d1144f58",
   "metadata": {
    "scrolled": true
   },
   "outputs": [],
   "source": [
    "# from tensorflow.keras.utils import plot_model\n",
    "# plot_model(discriminator, to_file='model_plot.png', show_shapes=True, show_layer_names=True)"
   ]
  },
  {
   "cell_type": "code",
   "execution_count": 24,
   "id": "97a9c269",
   "metadata": {},
   "outputs": [
    {
     "name": "stdout",
     "output_type": "stream",
     "text": [
      "Model: \"sequential_1\"\n",
      "_________________________________________________________________\n",
      "Layer (type)                 Output Shape              Param #   \n",
      "=================================================================\n",
      "dense_3 (Dense)              (None, 8192)              1056768   \n",
      "_________________________________________________________________\n",
      "reshape_1 (Reshape)          (None, 8, 8, 128)         0         \n",
      "_________________________________________________________________\n",
      "conv2d_transpose_2 (Conv2DTr (None, 16, 16, 128)       262272    \n",
      "_________________________________________________________________\n",
      "leaky_re_lu_8 (LeakyReLU)    (None, 16, 16, 128)       0         \n",
      "_________________________________________________________________\n",
      "conv2d_transpose_3 (Conv2DTr (None, 32, 32, 256)       524544    \n",
      "_________________________________________________________________\n",
      "leaky_re_lu_9 (LeakyReLU)    (None, 32, 32, 256)       0         \n",
      "_________________________________________________________________\n",
      "conv2d_7 (Conv2D)            (None, 32, 32, 3)         19203     \n",
      "=================================================================\n",
      "Total params: 1,862,787\n",
      "Trainable params: 1,862,787\n",
      "Non-trainable params: 0\n",
      "_________________________________________________________________\n"
     ]
    }
   ],
   "source": [
    "#################### GENERATOR NETWORK ###########################\n",
    "generator = keras.Sequential()\n",
    "# input layer\n",
    "generator.add(layers.Input(shape=(128),))\n",
    "# hidden layer 1 ~ staring with 8 * 8 * 128\n",
    "generator.add(layers.Dense(8 * 8 * 128))\n",
    "generator.add(layers.Reshape((8,8,128)))\n",
    "# hidden layer 2 ~ upsampling to 16 * 16\n",
    "generator.add(layers.Conv2DTranspose(128, kernel_size = (4,4), strides = (2,2), padding = \"same\"))\n",
    "generator.add(layers.LeakyReLU(0.2))\n",
    "# hidden layer 3 ~ upsampling to 32 * 32\n",
    "generator.add(layers.Conv2DTranspose(256, kernel_size = (4,4), strides = (2,2), padding= \"same\"))\n",
    "generator.add(layers.LeakyReLU(0.2))\n",
    "# hidden layer 4 ~ upsampling to 64 * 64\n",
    "#generator.add(layers.Conv2DTranspose(512, kernel_size = (4,4), strides = (2,2), padding = \"same\"))\n",
    "#generator.add(layers.LeakyReLU(0.2))\n",
    "# output layer \n",
    "generator.add(layers.Conv2D(3, kernel_size=5, padding=\"same\", activation=\"tanh\"))\n",
    "\n",
    "generator.summary()"
   ]
  },
  {
   "cell_type": "code",
   "execution_count": 25,
   "id": "e1f94799",
   "metadata": {},
   "outputs": [],
   "source": [
    "##################### TRAINING LOOP #######################\n",
    "\n",
    "##### SET UP LOSS AND OPTEMIZERS \n",
    "from tensorflow.keras.optimizers import Adam\n",
    "from keras.losses import BinaryCrossentropy\n",
    "\n",
    "# DCGAN pepper\n",
    "g_opt = Adam(learning_rate = 0.00025)\n",
    "d_opt = Adam(learning_rate = 0.000070)\n",
    "\n",
    "# strawberry\n",
    "# g_opt = Adam(learning_rate = 0.00035)\n",
    "# d_opt = Adam(learning_rate = 0.000075)\n",
    "\n",
    "# g_opt = Adam(learning_rate = 0.00045)\n",
    "# d_opt = Adam(learning_rate = 0.000075)\n",
    "g_loss = BinaryCrossentropy()\n",
    "d_loss = BinaryCrossentropy()\n",
    "\n",
    "\n",
    "class GAN(keras.Model):\n",
    "    def __init__(self, discriminator, generator, latent_dim):\n",
    "        super().__init__()\n",
    "        self.discriminator = discriminator\n",
    "        self.generator = generator\n",
    "        self.latent_dim = latent_dim\n",
    "\n",
    "    def compile(self, d_opt, g_opt, d_loss, g_loss):\n",
    "        super().compile()\n",
    "        self.d_opt = d_opt\n",
    "        self.g_opt = g_opt\n",
    "        self.d_loss = d_loss\n",
    "        self.g_loss = g_loss\n",
    "        \n",
    "\n",
    "\n",
    "    def train_step(self, real_images):\n",
    "        # Sample random points in the latent space\n",
    "        batch_size = tf.shape(real_images)[0]\n",
    "        random_latent_vectors = tf.random.normal(shape=(batch_size, self.latent_dim))\n",
    "        generated_images = self.generator(random_latent_vectors)\n",
    "        \n",
    "        # Combine them with real images\n",
    "        #combined_images = tf.concat([generated_images, real_images], axis=0)\n",
    "\n",
    "        # Assemble labels discriminating real from fake images\n",
    "        #labels = tf.concat(\n",
    "        #    [tf.ones((batch_size, 1)), tf.zeros((batch_size, 1))], axis=0\n",
    "        #)\n",
    "        # Add random noise to the labels - important trick!\n",
    "        #labels += 0.10 * tf.random.uniform(tf.shape(labels))\n",
    "\n",
    "        # Train the discriminator\n",
    "        with tf.GradientTape() as tape:   \n",
    "            #predictions = self.discriminator(combined_images)\n",
    "            #total_d_loss = self.d_loss(labels, predictions)\n",
    "            is_real = self.discriminator(real_images, training = True)\n",
    "            is_gen = self.discriminator(generated_images, training = True)\n",
    "            combined = tf.concat([is_real, is_gen], axis = 0)\n",
    "            Lable_combined = tf.concat([tf.zeros_like(is_real), tf.ones_like(is_gen)], axis = 0)\n",
    "            \n",
    "#             noise_real = tf.random.uniform(tf.shape(is_real))\n",
    "#             noise_gen =  tf.random.uniform(tf.shape(is_gen))\n",
    "            \n",
    "            noise_real = 0.25 * tf.random.uniform(tf.shape(is_real))\n",
    "            noise_gen = -0.15 * tf.random.uniform(tf.shape(is_gen))\n",
    "#             noise_gen = -0.25 * tf.random.uniform(tf.shape(is_gen))\n",
    "            \n",
    "            Lable_combined += tf.concat([noise_real, noise_gen], axis = 0)\n",
    "            total_d_loss = self.d_loss(Lable_combined, combined)\n",
    "            \n",
    "        grads = tape.gradient(total_d_loss, self.discriminator.trainable_weights)\n",
    "        self.d_opt.apply_gradients(\n",
    "            zip(grads, self.discriminator.trainable_weights)\n",
    "        )\n",
    "\n",
    "        # Sample random points in the latent space\n",
    "        random_latent_vectors = tf.random.normal(shape=(batch_size, self.latent_dim))\n",
    "\n",
    "        # Assemble labels that say \"all real images\"\n",
    "        misleading_labels = tf.zeros((batch_size, 1))\n",
    "\n",
    "        # Train the generator (note that we should *not* update the weights\n",
    "        # of the discriminator)!\n",
    "        with tf.GradientTape() as tape:\n",
    "            predictions = self.discriminator(self.generator(random_latent_vectors))\n",
    "            total_g_loss = self.g_loss(misleading_labels, predictions)\n",
    "        grads = tape.gradient(total_g_loss, self.generator.trainable_weights)\n",
    "        self.g_opt.apply_gradients(zip(grads, self.generator.trainable_weights))\n",
    "\n",
    "        \n",
    "        return {\n",
    "            \"d_loss\": total_d_loss,\n",
    "            \"g_loss\": total_g_loss,\n",
    "        }\n"
   ]
  },
  {
   "cell_type": "code",
   "execution_count": 26,
   "id": "31f136c6",
   "metadata": {},
   "outputs": [],
   "source": [
    "class GANMonitor(keras.callbacks.Callback):\n",
    "    def __init__(self, num_img=3, latent_dim=128):\n",
    "        self.num_img = num_img\n",
    "        self.latent_dim = latent_dim\n",
    "\n",
    "    def on_epoch_end(self, epoch, logs=None):\n",
    "        random_latent_vectors = tf.random.normal(shape=(self.num_img, self.latent_dim))\n",
    "        generated_images = self.model.generator(random_latent_vectors)\n",
    "        generated_images *= 255\n",
    "        generated_images.numpy()\n",
    "        for i in range(self.num_img):\n",
    "            img = keras.preprocessing.image.array_to_img(generated_images[i])\n",
    "            img.save(os.path.join('DCGAN_Bacterial_trial', f'generated_img_epoch_{epoch}_{i}.png'))"
   ]
  },
  {
   "cell_type": "code",
   "execution_count": 27,
   "id": "15064fb9",
   "metadata": {
    "scrolled": false
   },
   "outputs": [
    {
     "name": "stdout",
     "output_type": "stream",
     "text": [
      "Epoch 1/100\n",
      "278/278 [==============================] - 12s 39ms/step - d_loss: 1.4231 - g_loss: 0.2029\n",
      "Epoch 2/100\n",
      "278/278 [==============================] - 9s 31ms/step - d_loss: 0.8690 - g_loss: 0.5522\n",
      "Epoch 3/100\n",
      "278/278 [==============================] - 9s 31ms/step - d_loss: 0.7924 - g_loss: 0.6407\n",
      "Epoch 4/100\n",
      "278/278 [==============================] - 9s 31ms/step - d_loss: 0.7668 - g_loss: 0.6643\n",
      "Epoch 5/100\n",
      "278/278 [==============================] - 9s 30ms/step - d_loss: 0.7495 - g_loss: 0.6906\n",
      "Epoch 6/100\n",
      "278/278 [==============================] - 9s 31ms/step - d_loss: 0.7349 - g_loss: 0.7039\n",
      "Epoch 7/100\n",
      "278/278 [==============================] - 9s 31ms/step - d_loss: 0.7319 - g_loss: 0.7063\n",
      "Epoch 8/100\n",
      "278/278 [==============================] - 9s 31ms/step - d_loss: 0.7296 - g_loss: 0.7179\n",
      "Epoch 9/100\n",
      "278/278 [==============================] - 9s 31ms/step - d_loss: 0.7286 - g_loss: 0.7043\n",
      "Epoch 10/100\n",
      "278/278 [==============================] - 9s 31ms/step - d_loss: 0.7183 - g_loss: 0.7317\n",
      "Epoch 11/100\n",
      "278/278 [==============================] - 9s 31ms/step - d_loss: 0.7172 - g_loss: 0.7256\n",
      "Epoch 12/100\n",
      "278/278 [==============================] - 9s 31ms/step - d_loss: 0.7189 - g_loss: 0.7241\n",
      "Epoch 13/100\n",
      "278/278 [==============================] - 9s 31ms/step - d_loss: 0.7138 - g_loss: 0.7333\n",
      "Epoch 14/100\n",
      "278/278 [==============================] - 9s 31ms/step - d_loss: 0.7167 - g_loss: 0.7352\n",
      "Epoch 15/100\n",
      "278/278 [==============================] - 9s 31ms/step - d_loss: 0.7138 - g_loss: 0.7215\n",
      "Epoch 16/100\n",
      "278/278 [==============================] - 9s 31ms/step - d_loss: 0.7124 - g_loss: 0.7369\n",
      "Epoch 17/100\n",
      "278/278 [==============================] - 9s 31ms/step - d_loss: 0.7142 - g_loss: 0.7258\n",
      "Epoch 18/100\n",
      "278/278 [==============================] - 9s 31ms/step - d_loss: 0.7158 - g_loss: 0.7327\n",
      "Epoch 19/100\n",
      "278/278 [==============================] - 9s 31ms/step - d_loss: 0.7110 - g_loss: 0.7275\n",
      "Epoch 20/100\n",
      "278/278 [==============================] - 9s 31ms/step - d_loss: 0.7100 - g_loss: 0.7387\n",
      "Epoch 21/100\n",
      "278/278 [==============================] - 9s 31ms/step - d_loss: 0.7092 - g_loss: 0.7349\n",
      "Epoch 22/100\n",
      "278/278 [==============================] - 9s 31ms/step - d_loss: 0.7088 - g_loss: 0.7373\n",
      "Epoch 23/100\n",
      "278/278 [==============================] - 9s 31ms/step - d_loss: 0.7065 - g_loss: 0.7337\n",
      "Epoch 24/100\n",
      "278/278 [==============================] - 9s 31ms/step - d_loss: 0.7086 - g_loss: 0.7373\n",
      "Epoch 25/100\n",
      "278/278 [==============================] - 10s 35ms/step - d_loss: 0.7074 - g_loss: 0.7483\n",
      "Epoch 26/100\n",
      "278/278 [==============================] - 9s 31ms/step - d_loss: 0.7072 - g_loss: 0.7367\n",
      "Epoch 27/100\n",
      "278/278 [==============================] - 9s 31ms/step - d_loss: 0.7026 - g_loss: 0.7477\n",
      "Epoch 28/100\n",
      "278/278 [==============================] - 9s 31ms/step - d_loss: 0.7100 - g_loss: 0.7406\n",
      "Epoch 29/100\n",
      "278/278 [==============================] - 9s 31ms/step - d_loss: 0.7061 - g_loss: 0.7342\n",
      "Epoch 30/100\n",
      "278/278 [==============================] - 10s 35ms/step - d_loss: 0.7066 - g_loss: 0.7399\n",
      "Epoch 31/100\n",
      "278/278 [==============================] - 9s 31ms/step - d_loss: 0.7061 - g_loss: 0.7475\n",
      "Epoch 32/100\n",
      "278/278 [==============================] - 9s 31ms/step - d_loss: 0.7059 - g_loss: 0.7384\n",
      "Epoch 33/100\n",
      "278/278 [==============================] - 9s 31ms/step - d_loss: 0.7060 - g_loss: 0.7381\n",
      "Epoch 34/100\n",
      "278/278 [==============================] - 9s 31ms/step - d_loss: 0.7049 - g_loss: 0.7428\n",
      "Epoch 35/100\n",
      "278/278 [==============================] - 9s 31ms/step - d_loss: 0.7022 - g_loss: 0.7526\n",
      "Epoch 36/100\n",
      "278/278 [==============================] - 9s 31ms/step - d_loss: 0.7048 - g_loss: 0.7485\n",
      "Epoch 37/100\n",
      "278/278 [==============================] - 9s 31ms/step - d_loss: 0.7058 - g_loss: 0.7394\n",
      "Epoch 38/100\n",
      "278/278 [==============================] - 9s 31ms/step - d_loss: 0.7042 - g_loss: 0.7472\n",
      "Epoch 39/100\n",
      "278/278 [==============================] - 9s 31ms/step - d_loss: 0.7035 - g_loss: 0.7464\n",
      "Epoch 40/100\n",
      "278/278 [==============================] - 9s 31ms/step - d_loss: 0.7052 - g_loss: 0.7451\n",
      "Epoch 41/100\n",
      "278/278 [==============================] - 10s 35ms/step - d_loss: 0.7039 - g_loss: 0.7415\n",
      "Epoch 42/100\n",
      "278/278 [==============================] - 9s 32ms/step - d_loss: 0.7024 - g_loss: 0.7472\n",
      "Epoch 43/100\n",
      "278/278 [==============================] - 9s 31ms/step - d_loss: 0.7021 - g_loss: 0.7457\n",
      "Epoch 44/100\n",
      "278/278 [==============================] - 9s 31ms/step - d_loss: 0.7047 - g_loss: 0.7520\n",
      "Epoch 45/100\n",
      "278/278 [==============================] - 9s 31ms/step - d_loss: 0.7014 - g_loss: 0.7472\n",
      "Epoch 46/100\n",
      "278/278 [==============================] - 9s 31ms/step - d_loss: 0.7004 - g_loss: 0.7427\n",
      "Epoch 47/100\n",
      "278/278 [==============================] - 9s 31ms/step - d_loss: 0.7012 - g_loss: 0.7509\n",
      "Epoch 48/100\n",
      "278/278 [==============================] - 9s 31ms/step - d_loss: 0.6988 - g_loss: 0.7495\n",
      "Epoch 49/100\n",
      "278/278 [==============================] - 9s 31ms/step - d_loss: 0.7022 - g_loss: 0.7492\n",
      "Epoch 50/100\n",
      "278/278 [==============================] - 9s 31ms/step - d_loss: 0.7012 - g_loss: 0.7534\n",
      "Epoch 51/100\n",
      "278/278 [==============================] - 9s 31ms/step - d_loss: 0.7036 - g_loss: 0.7425\n",
      "Epoch 52/100\n",
      "278/278 [==============================] - 9s 31ms/step - d_loss: 0.7042 - g_loss: 0.7439\n",
      "Epoch 53/100\n",
      "278/278 [==============================] - 9s 31ms/step - d_loss: 0.7021 - g_loss: 0.7451\n",
      "Epoch 54/100\n",
      "278/278 [==============================] - 9s 31ms/step - d_loss: 0.6984 - g_loss: 0.7526\n",
      "Epoch 55/100\n",
      "278/278 [==============================] - 9s 31ms/step - d_loss: 0.7012 - g_loss: 0.7470\n",
      "Epoch 56/100\n",
      "278/278 [==============================] - 9s 31ms/step - d_loss: 0.7015 - g_loss: 0.7456\n",
      "Epoch 57/100\n",
      "278/278 [==============================] - 9s 34ms/step - d_loss: 0.6969 - g_loss: 0.7455\n",
      "Epoch 58/100\n",
      "278/278 [==============================] - 9s 34ms/step - d_loss: 0.6975 - g_loss: 0.7509\n",
      "Epoch 59/100\n",
      "278/278 [==============================] - 9s 31ms/step - d_loss: 0.6968 - g_loss: 0.7501\n",
      "Epoch 60/100\n",
      "278/278 [==============================] - 9s 33ms/step - d_loss: 0.6996 - g_loss: 0.7455\n",
      "Epoch 61/100\n",
      "278/278 [==============================] - 10s 35ms/step - d_loss: 0.6961 - g_loss: 0.7536\n",
      "Epoch 62/100\n",
      "278/278 [==============================] - 10s 35ms/step - d_loss: 0.6986 - g_loss: 0.7588\n",
      "Epoch 63/100\n",
      "278/278 [==============================] - 9s 33ms/step - d_loss: 0.6984 - g_loss: 0.7476\n",
      "Epoch 64/100\n",
      "278/278 [==============================] - 9s 34ms/step - d_loss: 0.6973 - g_loss: 0.7470\n",
      "Epoch 65/100\n",
      "278/278 [==============================] - 9s 34ms/step - d_loss: 0.6971 - g_loss: 0.7515\n",
      "Epoch 66/100\n",
      "278/278 [==============================] - 9s 33ms/step - d_loss: 0.6957 - g_loss: 0.7565\n",
      "Epoch 67/100\n",
      "278/278 [==============================] - 9s 31ms/step - d_loss: 0.6975 - g_loss: 0.7553\n",
      "Epoch 68/100\n",
      "278/278 [==============================] - 9s 31ms/step - d_loss: 0.6985 - g_loss: 0.7575\n",
      "Epoch 69/100\n",
      "278/278 [==============================] - 9s 31ms/step - d_loss: 0.6950 - g_loss: 0.7550\n",
      "Epoch 70/100\n",
      "278/278 [==============================] - 9s 31ms/step - d_loss: 0.6947 - g_loss: 0.7575\n",
      "Epoch 71/100\n",
      "278/278 [==============================] - 9s 31ms/step - d_loss: 0.6939 - g_loss: 0.7700\n",
      "Epoch 72/100\n",
      "278/278 [==============================] - 9s 31ms/step - d_loss: 0.6986 - g_loss: 0.7540\n",
      "Epoch 73/100\n",
      "278/278 [==============================] - 9s 31ms/step - d_loss: 0.6942 - g_loss: 0.7615\n",
      "Epoch 74/100\n",
      "278/278 [==============================] - 9s 31ms/step - d_loss: 0.6923 - g_loss: 0.7569\n",
      "Epoch 75/100\n",
      "278/278 [==============================] - 9s 31ms/step - d_loss: 0.6981 - g_loss: 0.7690\n",
      "Epoch 76/100\n",
      "278/278 [==============================] - 9s 31ms/step - d_loss: 0.6925 - g_loss: 0.7683\n",
      "Epoch 77/100\n",
      "278/278 [==============================] - 9s 31ms/step - d_loss: 0.6950 - g_loss: 0.7659\n",
      "Epoch 78/100\n",
      "278/278 [==============================] - 9s 31ms/step - d_loss: 0.6886 - g_loss: 0.7760\n",
      "Epoch 79/100\n",
      "278/278 [==============================] - 9s 31ms/step - d_loss: 0.6885 - g_loss: 0.7691\n",
      "Epoch 80/100\n"
     ]
    },
    {
     "name": "stdout",
     "output_type": "stream",
     "text": [
      "278/278 [==============================] - 9s 31ms/step - d_loss: 0.6921 - g_loss: 0.7720\n",
      "Epoch 81/100\n",
      "278/278 [==============================] - 9s 31ms/step - d_loss: 0.6937 - g_loss: 0.7952\n",
      "Epoch 82/100\n",
      "278/278 [==============================] - 9s 31ms/step - d_loss: 0.6930 - g_loss: 0.7730\n",
      "Epoch 83/100\n",
      "278/278 [==============================] - 9s 31ms/step - d_loss: 0.6867 - g_loss: 0.7814\n",
      "Epoch 84/100\n",
      "278/278 [==============================] - 9s 31ms/step - d_loss: 0.6919 - g_loss: 0.7881\n",
      "Epoch 85/100\n",
      "278/278 [==============================] - 9s 31ms/step - d_loss: 0.6890 - g_loss: 0.7923\n",
      "Epoch 86/100\n",
      "278/278 [==============================] - 9s 31ms/step - d_loss: 0.6871 - g_loss: 0.7891\n",
      "Epoch 87/100\n",
      "278/278 [==============================] - 9s 31ms/step - d_loss: 0.6881 - g_loss: 0.7904\n",
      "Epoch 88/100\n",
      "278/278 [==============================] - 9s 31ms/step - d_loss: 0.6881 - g_loss: 0.7839\n",
      "Epoch 89/100\n",
      "278/278 [==============================] - 9s 31ms/step - d_loss: 0.6936 - g_loss: 0.7651\n",
      "Epoch 90/100\n",
      "278/278 [==============================] - 9s 31ms/step - d_loss: 0.6999 - g_loss: 0.7759\n",
      "Epoch 91/100\n",
      "278/278 [==============================] - 9s 31ms/step - d_loss: 0.6873 - g_loss: 0.8051\n",
      "Epoch 92/100\n",
      "278/278 [==============================] - 9s 32ms/step - d_loss: 0.6807 - g_loss: 0.8505\n",
      "Epoch 93/100\n",
      "278/278 [==============================] - 9s 31ms/step - d_loss: 0.6900 - g_loss: 0.8076\n",
      "Epoch 94/100\n",
      "278/278 [==============================] - 9s 32ms/step - d_loss: 0.6779 - g_loss: 0.8143\n",
      "Epoch 95/100\n",
      "278/278 [==============================] - 9s 32ms/step - d_loss: 0.6806 - g_loss: 0.8162\n",
      "Epoch 96/100\n",
      "278/278 [==============================] - 9s 32ms/step - d_loss: 0.6709 - g_loss: 0.8446\n",
      "Epoch 97/100\n",
      "278/278 [==============================] - 9s 32ms/step - d_loss: 0.6911 - g_loss: 0.8016\n",
      "Epoch 98/100\n",
      "278/278 [==============================] - 9s 32ms/step - d_loss: 0.6778 - g_loss: 0.8183\n",
      "Epoch 99/100\n",
      "278/278 [==============================] - 9s 32ms/step - d_loss: 0.7013 - g_loss: 0.7937\n",
      "Epoch 100/100\n",
      "278/278 [==============================] - 9s 32ms/step - d_loss: 0.6852 - g_loss: 0.8243\n"
     ]
    },
    {
     "data": {
      "text/plain": [
       "<keras.callbacks.History at 0x1d5f11d0850>"
      ]
     },
     "execution_count": 27,
     "metadata": {},
     "output_type": "execute_result"
    }
   ],
   "source": [
    "epochs = 100\n",
    "gan = GAN(discriminator=discriminator, generator=generator, latent_dim=128)\n",
    "gan.compile(d_opt, g_opt, d_loss, g_loss)\n",
    "gan.fit(data, epochs=epochs, callbacks=[GANMonitor(num_img=10, latent_dim=128)])"
   ]
  },
  {
   "cell_type": "code",
   "execution_count": 28,
   "id": "b0ea3b58",
   "metadata": {},
   "outputs": [],
   "source": [
    "random_latent_vectors = tf.random.normal(shape=(16, 128))\n",
    "generated_images = generator.predict(random_latent_vectors)\n",
    "generated_images *= 255\n",
    "for i in range(16):\n",
    "    img = keras.preprocessing.image.array_to_img(generated_images[i])\n",
    "    img.save(os.path.join('DCGAN_GEN', f'generated_img_epoch_{i}.png'))"
   ]
  },
  {
   "cell_type": "code",
   "execution_count": 31,
   "id": "7efa4c95",
   "metadata": {
    "scrolled": true
   },
   "outputs": [],
   "source": [
    "generator.compiled_metrics == None\n",
    "generator.compile()\n",
    "generator.save('generator_bacterial_pepper_DCGAN.h5')"
   ]
  },
  {
   "cell_type": "code",
   "execution_count": 33,
   "id": "35941d5c",
   "metadata": {},
   "outputs": [],
   "source": [
    "loaded_gen = keras.models.load_model('generator_bacterial_pepper_DCGAN.h5')"
   ]
  },
  {
   "cell_type": "code",
   "execution_count": 34,
   "id": "e5880ff6",
   "metadata": {},
   "outputs": [],
   "source": [
    "random_latent_vectors2 = tf.random.normal(shape=(2000, 128))\n",
    "generated_images = loaded_gen.predict(random_latent_vectors2)\n",
    "generated_images *= 255\n",
    "for i in range(2000):\n",
    "    img = keras.preprocessing.image.array_to_img(generated_images[i])\n",
    "    img.save(os.path.join('DCGAN_pepper_bacterial_final', f'generated_img_epoch_{i}.png'))"
   ]
  },
  {
   "cell_type": "code",
   "execution_count": 44,
   "id": "1f19d0a8",
   "metadata": {},
   "outputs": [
    {
     "name": "stdout",
     "output_type": "stream",
     "text": [
      "tf.Tensor(\n",
      "[[ 1.5347177  -0.7065127  -1.6114981  ... -2.287704   -0.8297936\n",
      "  -0.47491738]\n",
      " [-0.0037844  -0.08391918  0.1929763  ...  0.9431547   1.1112481\n",
      "   0.49122465]\n",
      " [ 0.37282747  0.705518   -0.1990936  ...  0.11986952 -0.6540281\n",
      "  -0.97849387]\n",
      " ...\n",
      " [ 0.4873934  -1.0083574   0.28027666 ... -0.6912557   1.2657646\n",
      "   2.5886927 ]\n",
      " [ 0.93032753  1.0765502  -0.83591175 ... -0.8548026   0.37978745\n",
      "  -1.2077094 ]\n",
      " [-0.7782833   0.38312474  2.338798   ... -0.47822246 -0.03043891\n",
      "   1.2092308 ]], shape=(16, 128), dtype=float32)\n"
     ]
    }
   ],
   "source": [
    "print(random_latent_vectors)"
   ]
  },
  {
   "cell_type": "code",
   "execution_count": null,
   "id": "4c684d87",
   "metadata": {},
   "outputs": [],
   "source": []
  }
 ],
 "metadata": {
  "kernelspec": {
   "display_name": "Python 3 (ipykernel)",
   "language": "python",
   "name": "python3"
  },
  "language_info": {
   "codemirror_mode": {
    "name": "ipython",
    "version": 3
   },
   "file_extension": ".py",
   "mimetype": "text/x-python",
   "name": "python",
   "nbconvert_exporter": "python",
   "pygments_lexer": "ipython3",
   "version": "3.9.16"
  }
 },
 "nbformat": 4,
 "nbformat_minor": 5
}
