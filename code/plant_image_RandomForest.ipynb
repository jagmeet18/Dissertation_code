{
 "cells": [
  {
   "cell_type": "code",
   "execution_count": 1,
   "id": "83c292d8",
   "metadata": {},
   "outputs": [],
   "source": [
    "import pandas as pd\n",
    "import numpy as np\n",
    "\n",
    "# Modelling\n",
    "from sklearn.ensemble import RandomForestClassifier\n",
    "from sklearn.metrics import accuracy_score, confusion_matrix, precision_score, recall_score, ConfusionMatrixDisplay\n",
    "from sklearn.model_selection import RandomizedSearchCV, train_test_split\n",
    "from scipy.stats import randint\n",
    "\n",
    "# Tree Visualisation\n",
    "from sklearn.tree import export_graphviz\n",
    "from IPython.display import Image\n",
    "import graphviz\n",
    "\n",
    "import os\n",
    "from os import listdir\n",
    "import gdown\n",
    "from zipfile import ZipFile\n",
    "import pickle\n",
    "import cv2\n",
    "from os import listdir"
   ]
  },
  {
   "cell_type": "code",
   "execution_count": 2,
   "id": "f9b0d6f7",
   "metadata": {},
   "outputs": [],
   "source": [
    "from tensorflow.keras.utils import img_to_array\n",
    "def convert_image_to_array(image_dir):\n",
    "    try:\n",
    "        image = cv2.imread(image_dir)\n",
    "        if image is not None :\n",
    "            img_gan = cv2.resize(image, (32,32))\n",
    "            return img_to_array(img_gan)\n",
    "        else :\n",
    "            return np.array([])\n",
    "    except Exception as e:\n",
    "        print(f\"Error : {e}\")\n",
    "        return None"
   ]
  },
  {
   "cell_type": "code",
   "execution_count": 72,
   "id": "704fa387",
   "metadata": {},
   "outputs": [],
   "source": [
    "def load_dataset(directory_root):\n",
    "#     directory_root = 'DCGAN_plant'\n",
    "    image_list_GAN, label_list = [], []\n",
    "    try:\n",
    "        print(\"[INFO] Loading images ...\")\n",
    "        root_dir = listdir(directory_root)\n",
    "        #print(root_dir)\n",
    "        for plant_folder in root_dir :\n",
    "            # remove .DS_Store from list\n",
    "            if plant_folder == \".DS_Store\" :\n",
    "                root_dir.remove(directory)\n",
    "\n",
    "\n",
    "        for plant_folder in root_dir :\n",
    "    #         print(\"on plant folder\")\n",
    "            plant_image_list = listdir(f\"{directory_root}/{plant_folder}\")\n",
    "\n",
    "\n",
    "\n",
    "            for single_image in plant_image_list :\n",
    "\n",
    "    #             print(\"in plant folder\")\n",
    "                if single_image == \".DS_Store\" :\n",
    "                    plant_image_list.remove(single_image)\n",
    "\n",
    "            for image in plant_image_list[:1000]:\n",
    "    #             print(\"getting img path\")\n",
    "                image_directory = f\"{directory_root}/{plant_folder}/{image}\"\n",
    "                if image_directory.endswith(\".jpg\") == True or image_directory.endswith(\".JPG\") == True or image_directory.endswith(\".png\") == True or image_directory.endswith(\".PNG\") == True:\n",
    "    #                 print(\"checking if img correct format\")\n",
    "                    gan_img = convert_image_to_array(image_directory)\n",
    "                    image_list_GAN.append(gan_img)\n",
    "                    label_list.append(plant_folder)\n",
    "\n",
    "        print(\"[INFO] Image loading completed\")  \n",
    "        return image_list_GAN, label_list\n",
    "    except Exception as e:\n",
    "        print(f\"Error : {e}\")"
   ]
  },
  {
   "cell_type": "code",
   "execution_count": 73,
   "id": "91efc8ec",
   "metadata": {
    "scrolled": true
   },
   "outputs": [
    {
     "name": "stdout",
     "output_type": "stream",
     "text": [
      "[INFO] Loading images ...\n",
      "[INFO] Image loading completed\n",
      "2\n",
      "[[0]\n",
      " [0]\n",
      " [0]\n",
      " ...\n",
      " [1]\n",
      " [1]\n",
      " [1]]\n"
     ]
    }
   ],
   "source": [
    "# enhanced_image_list , enhanced_label_list = extract_plant_imgs(enhanced_data)\n",
    "orignal_img_list, orignal_label_list = load_dataset('Orignal_tomato')\n",
    "normalized_image_list_orignal = np.array(orignal_img_list, dtype = np.float16) / 255.0\n",
    "\n",
    "from sklearn.preprocessing import LabelBinarizer\n",
    "label_gen = LabelBinarizer()\n",
    "image_labels_orignal = label_gen.fit_transform(orignal_label_list)\n",
    "pickle.dump(label_gen,open('label_transform.pkl', 'wb'))\n",
    "n_classes = len(label_gen.classes_)\n",
    "print(n_classes)\n",
    "print(image_labels_orignal)"
   ]
  },
  {
   "cell_type": "code",
   "execution_count": 143,
   "id": "e9ac564c",
   "metadata": {
    "scrolled": true
   },
   "outputs": [
    {
     "name": "stdout",
     "output_type": "stream",
     "text": [
      "[INFO] Loading images ...\n",
      "[INFO] Image loading completed\n"
     ]
    }
   ],
   "source": [
    "GAN_image_list, GAN_label_list = load_dataset('Enhanced_tomato_WGAN')"
   ]
  },
  {
   "cell_type": "code",
   "execution_count": 144,
   "id": "eaba88ee",
   "metadata": {},
   "outputs": [],
   "source": [
    "normalized_image_list_GAN = np.array(GAN_image_list, dtype = np.float16) / 255.0\n"
   ]
  },
  {
   "cell_type": "code",
   "execution_count": 145,
   "id": "c0a897a9",
   "metadata": {},
   "outputs": [
    {
     "name": "stdout",
     "output_type": "stream",
     "text": [
      "2\n",
      "[[0]\n",
      " [0]\n",
      " [0]\n",
      " ...\n",
      " [1]\n",
      " [1]\n",
      " [1]]\n"
     ]
    }
   ],
   "source": [
    "from sklearn.preprocessing import LabelBinarizer\n",
    "label_gen = LabelBinarizer()\n",
    "image_labels_GAN = label_gen.fit_transform(orignal_label_list)\n",
    "pickle.dump(label_gen,open('label_transform.pkl', 'wb'))\n",
    "n_classes = len(label_gen.classes_)\n",
    "print(n_classes)\n",
    "print(image_labels_GAN)"
   ]
  },
  {
   "cell_type": "code",
   "execution_count": 146,
   "id": "2a0ca197",
   "metadata": {},
   "outputs": [
    {
     "name": "stdout",
     "output_type": "stream",
     "text": [
      "making the training and testing split with 30% of the dataset as testing set\n"
     ]
    }
   ],
   "source": [
    "from sklearn.model_selection import train_test_split\n",
    "print(\"making the training and testing split with 30% of the dataset as testing set\")\n",
    "GAN_x_train, GAN_x_test, GAN_y_train, GAN_y_test = train_test_split(normalized_image_list_GAN, image_labels_GAN, test_size=0.3, shuffle=True,random_state = 42)\n",
    "\n",
    "orignal_x_train, orignal_x_test, orignal_y_train, orignal_y_test = train_test_split(normalized_image_list_orignal, image_labels_orignal, test_size=0.3, shuffle=True,random_state = 42)\n"
   ]
  },
  {
   "cell_type": "code",
   "execution_count": 147,
   "id": "88fe5395",
   "metadata": {},
   "outputs": [
    {
     "name": "stdout",
     "output_type": "stream",
     "text": [
      "(1400, 32, 32, 3)\n",
      "(1400, 1)\n"
     ]
    }
   ],
   "source": [
    "# new_image_list = np.array(image_list, dtype = np.float16) / 255.0\n",
    "# print(new_image_list.shape)\n",
    "print(orignal_x_train.shape)\n",
    "print(orignal_y_train.shape)"
   ]
  },
  {
   "cell_type": "code",
   "execution_count": 148,
   "id": "8a015204",
   "metadata": {
    "scrolled": true
   },
   "outputs": [],
   "source": [
    "# from sklearn.model_selection import train_test_split\n",
    "# print(\"making the training and testing split with 30% of the dataset as testing set\")\n",
    "# x_train, x_test, y_train, y_test = train_test_split(new_image_list, image_labels, test_size=0.1, random_state = 42) \n",
    "# print(x_train.shape)"
   ]
  },
  {
   "cell_type": "code",
   "execution_count": 149,
   "id": "212b95a4",
   "metadata": {},
   "outputs": [],
   "source": [
    "def convert_to_2D(set_shape):\n",
    "    num_images, height, width, channels = set_shape.shape\n",
    "    converted_shape = np.reshape(set_shape, (num_images, height * width * channels))\n",
    "    return converted_shape\n",
    "\n",
    "def convert_to_1D(set_shape):\n",
    "    converted_shape = set_shape.flatten()\n",
    "    return converted_shape"
   ]
  },
  {
   "cell_type": "code",
   "execution_count": 150,
   "id": "f0a4e4b2",
   "metadata": {
    "scrolled": true
   },
   "outputs": [],
   "source": [
    "GAN_x_train_2D = convert_to_2D(GAN_x_train)\n",
    "GAN_x_test_2D = convert_to_2D(GAN_x_test)\n",
    "GAN_y_train_1D = convert_to_1D(GAN_y_train)\n",
    "GAN_y_test_1D = convert_to_1D(GAN_y_test)\n",
    "\n",
    "orignal_x_train_2D = convert_to_2D(orignal_x_train)\n",
    "orignal_x_test_2D = convert_to_2D(orignal_x_test)\n",
    "orignal_y_train_1D = convert_to_1D(orignal_y_train)\n",
    "orignal_y_test_1D = convert_to_1D(orignal_y_test)\n"
   ]
  },
  {
   "cell_type": "code",
   "execution_count": 131,
   "id": "1e74c996",
   "metadata": {},
   "outputs": [
    {
     "name": "stdout",
     "output_type": "stream",
     "text": [
      "(1400, 3072)\n",
      "(1400,)\n"
     ]
    }
   ],
   "source": [
    "print(orignal_x_train_2D.shape)\n",
    "print(orignal_y_train_1D.shape)"
   ]
  },
  {
   "cell_type": "code",
   "execution_count": 132,
   "id": "dcf1ff01",
   "metadata": {
    "scrolled": true
   },
   "outputs": [
    {
     "data": {
      "text/html": [
       "<style>#sk-container-id-7 {color: black;background-color: white;}#sk-container-id-7 pre{padding: 0;}#sk-container-id-7 div.sk-toggleable {background-color: white;}#sk-container-id-7 label.sk-toggleable__label {cursor: pointer;display: block;width: 100%;margin-bottom: 0;padding: 0.3em;box-sizing: border-box;text-align: center;}#sk-container-id-7 label.sk-toggleable__label-arrow:before {content: \"▸\";float: left;margin-right: 0.25em;color: #696969;}#sk-container-id-7 label.sk-toggleable__label-arrow:hover:before {color: black;}#sk-container-id-7 div.sk-estimator:hover label.sk-toggleable__label-arrow:before {color: black;}#sk-container-id-7 div.sk-toggleable__content {max-height: 0;max-width: 0;overflow: hidden;text-align: left;background-color: #f0f8ff;}#sk-container-id-7 div.sk-toggleable__content pre {margin: 0.2em;color: black;border-radius: 0.25em;background-color: #f0f8ff;}#sk-container-id-7 input.sk-toggleable__control:checked~div.sk-toggleable__content {max-height: 200px;max-width: 100%;overflow: auto;}#sk-container-id-7 input.sk-toggleable__control:checked~label.sk-toggleable__label-arrow:before {content: \"▾\";}#sk-container-id-7 div.sk-estimator input.sk-toggleable__control:checked~label.sk-toggleable__label {background-color: #d4ebff;}#sk-container-id-7 div.sk-label input.sk-toggleable__control:checked~label.sk-toggleable__label {background-color: #d4ebff;}#sk-container-id-7 input.sk-hidden--visually {border: 0;clip: rect(1px 1px 1px 1px);clip: rect(1px, 1px, 1px, 1px);height: 1px;margin: -1px;overflow: hidden;padding: 0;position: absolute;width: 1px;}#sk-container-id-7 div.sk-estimator {font-family: monospace;background-color: #f0f8ff;border: 1px dotted black;border-radius: 0.25em;box-sizing: border-box;margin-bottom: 0.5em;}#sk-container-id-7 div.sk-estimator:hover {background-color: #d4ebff;}#sk-container-id-7 div.sk-parallel-item::after {content: \"\";width: 100%;border-bottom: 1px solid gray;flex-grow: 1;}#sk-container-id-7 div.sk-label:hover label.sk-toggleable__label {background-color: #d4ebff;}#sk-container-id-7 div.sk-serial::before {content: \"\";position: absolute;border-left: 1px solid gray;box-sizing: border-box;top: 0;bottom: 0;left: 50%;z-index: 0;}#sk-container-id-7 div.sk-serial {display: flex;flex-direction: column;align-items: center;background-color: white;padding-right: 0.2em;padding-left: 0.2em;position: relative;}#sk-container-id-7 div.sk-item {position: relative;z-index: 1;}#sk-container-id-7 div.sk-parallel {display: flex;align-items: stretch;justify-content: center;background-color: white;position: relative;}#sk-container-id-7 div.sk-item::before, #sk-container-id-7 div.sk-parallel-item::before {content: \"\";position: absolute;border-left: 1px solid gray;box-sizing: border-box;top: 0;bottom: 0;left: 50%;z-index: -1;}#sk-container-id-7 div.sk-parallel-item {display: flex;flex-direction: column;z-index: 1;position: relative;background-color: white;}#sk-container-id-7 div.sk-parallel-item:first-child::after {align-self: flex-end;width: 50%;}#sk-container-id-7 div.sk-parallel-item:last-child::after {align-self: flex-start;width: 50%;}#sk-container-id-7 div.sk-parallel-item:only-child::after {width: 0;}#sk-container-id-7 div.sk-dashed-wrapped {border: 1px dashed gray;margin: 0 0.4em 0.5em 0.4em;box-sizing: border-box;padding-bottom: 0.4em;background-color: white;}#sk-container-id-7 div.sk-label label {font-family: monospace;font-weight: bold;display: inline-block;line-height: 1.2em;}#sk-container-id-7 div.sk-label-container {text-align: center;}#sk-container-id-7 div.sk-container {/* jupyter's `normalize.less` sets `[hidden] { display: none; }` but bootstrap.min.css set `[hidden] { display: none !important; }` so we also need the `!important` here to be able to override the default hidden behavior on the sphinx rendered scikit-learn.org. See: https://github.com/scikit-learn/scikit-learn/issues/21755 */display: inline-block !important;position: relative;}#sk-container-id-7 div.sk-text-repr-fallback {display: none;}</style><div id=\"sk-container-id-7\" class=\"sk-top-container\"><div class=\"sk-text-repr-fallback\"><pre>RandomForestClassifier()</pre><b>In a Jupyter environment, please rerun this cell to show the HTML representation or trust the notebook. <br />On GitHub, the HTML representation is unable to render, please try loading this page with nbviewer.org.</b></div><div class=\"sk-container\" hidden><div class=\"sk-item\"><div class=\"sk-estimator sk-toggleable\"><input class=\"sk-toggleable__control sk-hidden--visually\" id=\"sk-estimator-id-7\" type=\"checkbox\" checked><label for=\"sk-estimator-id-7\" class=\"sk-toggleable__label sk-toggleable__label-arrow\">RandomForestClassifier</label><div class=\"sk-toggleable__content\"><pre>RandomForestClassifier()</pre></div></div></div></div></div>"
      ],
      "text/plain": [
       "RandomForestClassifier()"
      ]
     },
     "execution_count": 132,
     "metadata": {},
     "output_type": "execute_result"
    }
   ],
   "source": [
    "# Create a Random Forest classifier with 100 trees\n",
    "rfc = RandomForestClassifier(n_estimators=100)\n",
    "# x_train = x_train.flatten()\n",
    "# Fit the classifier to the training data\n",
    "rfc.fit(GAN_x_train_2D, GAN_y_train_1D)\n"
   ]
  },
  {
   "cell_type": "code",
   "execution_count": 133,
   "id": "94e5cb9d",
   "metadata": {},
   "outputs": [],
   "source": [
    "pickle.dump(rfc,open('Enhanced_tomato_WGAN_rf','wb'))\n",
    "# pickle.dump(rfc,open('Original_tomato_rf','wb'))"
   ]
  },
  {
   "cell_type": "code",
   "execution_count": 134,
   "id": "43de8382",
   "metadata": {
    "scrolled": true
   },
   "outputs": [],
   "source": [
    "y_pred = rfc.predict(orignal_x_test_2D)\n",
    "\n",
    "# Calculate the accuracy of the classifier\n",
    "\n",
    "y_pred = np.where(y_pred[:len(orignal_x_test_2D)] >= 0.5, 1, 0)"
   ]
  },
  {
   "cell_type": "code",
   "execution_count": 135,
   "id": "7ec5b8b8",
   "metadata": {},
   "outputs": [
    {
     "name": "stdout",
     "output_type": "stream",
     "text": [
      "Precision: 66.66666666666667\n",
      "Recall: 50.66002933463709\n",
      "F1-score: 34.91934074893716\n",
      "Accuracy: 50.33333333333333\n"
     ]
    }
   ],
   "source": [
    "from sklearn.metrics import classification_report, confusion_matrix\n",
    "# print(confusion_matrix(y_test, y_pred))\n",
    "# print(classification_report(y_test, y_pred))\n",
    "\n",
    "# print(\"Accuracy:\", accuracy * 100)\n",
    "from sklearn.metrics import accuracy_score, precision_score, recall_score, f1_score\n",
    "from sklearn.metrics import confusion_matrix\n",
    "\n",
    "precision = precision_score(orignal_y_test_1D, y_pred, average='macro')\n",
    "recall = recall_score(orignal_y_test_1D, y_pred, average='macro')\n",
    "f1 = f1_score(orignal_y_test_1D, y_pred, average='macro')\n",
    "accuracy = accuracy_score(orignal_y_test_1D, y_pred)\n",
    "# Calculate the confusion matrix.\n",
    "# cm = confusion_matrix(orignal_y_test_1D, y_pred)\n",
    "\n",
    "# Print the precision, recall, f1-score, and confusion matrix.\n",
    "print(\"Precision:\", precision * 100)\n",
    "print(\"Recall:\", recall * 100)\n",
    "print(\"F1-score:\", f1 * 100)\n",
    "print(\"Accuracy:\", accuracy * 100)\n",
    "# print(\"Confusion matrix:\\n\", cm)"
   ]
  },
  {
   "cell_type": "code",
   "execution_count": null,
   "id": "72e41d54",
   "metadata": {},
   "outputs": [],
   "source": []
  }
 ],
 "metadata": {
  "kernelspec": {
   "display_name": "Python 3 (ipykernel)",
   "language": "python",
   "name": "python3"
  },
  "language_info": {
   "codemirror_mode": {
    "name": "ipython",
    "version": 3
   },
   "file_extension": ".py",
   "mimetype": "text/x-python",
   "name": "python",
   "nbconvert_exporter": "python",
   "pygments_lexer": "ipython3",
   "version": "3.9.16"
  }
 },
 "nbformat": 4,
 "nbformat_minor": 5
}
