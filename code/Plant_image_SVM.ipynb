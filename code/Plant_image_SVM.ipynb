{
 "cells": [
  {
   "cell_type": "code",
   "execution_count": 129,
   "id": "49c7ded4",
   "metadata": {},
   "outputs": [],
   "source": [
    "import numpy as np\n",
    "import pandas as pd\n",
    "import tensorflow as tf\n",
    "from tensorflow.keras.preprocessing.image import ImageDataGenerator\n",
    "from tensorflow.keras import Sequential\n",
    "from tensorflow.keras.layers import Conv2D,Dense,MaxPool2D,Flatten\n",
    "from tensorflow.keras.regularizers import l2\n",
    "import os\n",
    "from os import listdir\n",
    "import gdown\n",
    "from zipfile import ZipFile\n",
    "import pickle\n",
    "import cv2\n",
    "from os import listdir\n",
    "from sklearn.preprocessing import LabelBinarizer"
   ]
  },
  {
   "cell_type": "code",
   "execution_count": 130,
   "id": "1af5f987",
   "metadata": {},
   "outputs": [],
   "source": [
    "from tensorflow.keras.utils import img_to_array\n",
    "def convert_image_to_array(image_dir):\n",
    "    try:\n",
    "        image = cv2.imread(image_dir)\n",
    "        if image is not None :\n",
    "            img_gan = cv2.resize(image, (32,32))\n",
    "            return img_to_array(img_gan)\n",
    "        else :\n",
    "            return np.array([])\n",
    "    except Exception as e:\n",
    "        print(f\"Error : {e}\")\n",
    "        return None"
   ]
  },
  {
   "cell_type": "code",
   "execution_count": 162,
   "id": "171d03f3",
   "metadata": {},
   "outputs": [
    {
     "name": "stdout",
     "output_type": "stream",
     "text": [
      "[INFO] Loading images ...\n",
      "[INFO] Image loading completed\n"
     ]
    }
   ],
   "source": [
    "directory_root = 'Orignal_strawberry'\n",
    "image_list, label_list = [], []\n",
    "try:\n",
    "    print(\"[INFO] Loading images ...\")\n",
    "    root_dir = listdir(directory_root)\n",
    "    #print(root_dir)\n",
    "    for plant_folder in root_dir :\n",
    "        # remove .DS_Store from list\n",
    "        if plant_folder == \".DS_Store\" :\n",
    "            root_dir.remove(directory)\n",
    "            \n",
    "\n",
    "    for plant_folder in root_dir :\n",
    "#         print(\"on plant folder\")\n",
    "        plant_image_list = listdir(f\"{directory_root}/{plant_folder}\")\n",
    "        \n",
    "     \n",
    "        \n",
    "        for single_image in plant_image_list :\n",
    "            \n",
    "#             print(\"in plant folder\")\n",
    "            if single_image == \".DS_Store\" :\n",
    "                plant_image_list.remove(single_image)\n",
    "\n",
    "        for image in plant_image_list[:1000]:\n",
    "#             print(\"getting img path\")\n",
    "            image_directory = f\"{directory_root}/{plant_folder}/{image}\"\n",
    "            if image_directory.endswith(\".jpg\") == True or image_directory.endswith(\".JPG\") == True or image_directory.endswith(\".png\") == True or image_directory.endswith(\".PNG\") == True:\n",
    "#                 print(\"checking if img correct format\")\n",
    "                gan_img = convert_image_to_array(image_directory)\n",
    "                image_list.append(gan_img)\n",
    "                label_list.append(plant_folder)\n",
    "                    \n",
    "    print(\"[INFO] Image loading completed\")  \n",
    "except Exception as e:\n",
    "    print(f\"Error : {e}\")"
   ]
  },
  {
   "cell_type": "code",
   "execution_count": 163,
   "id": "0f514f1f",
   "metadata": {},
   "outputs": [
    {
     "name": "stdout",
     "output_type": "stream",
     "text": [
      "2\n",
      "[[0]\n",
      " [0]\n",
      " [0]\n",
      " ...\n",
      " [1]\n",
      " [1]\n",
      " [1]]\n"
     ]
    }
   ],
   "source": [
    "# print(label_list)\n",
    "label_gen = LabelBinarizer()\n",
    "image_labels = label_gen.fit_transform(label_list)\n",
    "pickle.dump(label_gen,open('label_transform.pkl', 'wb'))\n",
    "n_classes = len(label_gen.classes_)\n",
    "print(n_classes)\n",
    "print(image_labels)"
   ]
  },
  {
   "cell_type": "code",
   "execution_count": 164,
   "id": "5c3453cb",
   "metadata": {},
   "outputs": [
    {
     "name": "stdout",
     "output_type": "stream",
     "text": [
      "(2000, 32, 32, 3)\n"
     ]
    }
   ],
   "source": [
    "new_image_list = np.array(image_list, dtype = np.float16) / 255.0\n",
    "print(new_image_list.shape)"
   ]
  },
  {
   "cell_type": "code",
   "execution_count": 165,
   "id": "3f897b12",
   "metadata": {},
   "outputs": [
    {
     "name": "stdout",
     "output_type": "stream",
     "text": [
      "making the training and testing split with 30% of the dataset as testing set\n",
      "(1400, 32, 32, 3)\n",
      "(600, 32, 32, 3)\n"
     ]
    }
   ],
   "source": [
    "from sklearn.model_selection import train_test_split\n",
    "print(\"making the training and testing split with 30% of the dataset as testing set\")\n",
    "x_train, x_test, y_train, y_test = train_test_split(new_image_list, image_labels, test_size=0.3, shuffle=True,random_state = 42) \n",
    "# x_train = x_train.astype('float32') / 255\n",
    "# x_test = x_test.astype('float32') / 255\n",
    "print(x_train.shape)\n",
    "print(x_test.shape)"
   ]
  },
  {
   "cell_type": "code",
   "execution_count": 166,
   "id": "e2ceb619",
   "metadata": {},
   "outputs": [],
   "source": [
    "model = Sequential()\n",
    "model.add(Conv2D(filters = 32, padding = \"same\",activation = \"relu\",kernel_size=3, strides = 2,input_shape=(32,32,3)))\n",
    "model.add(MaxPool2D(pool_size=(2,2),strides = 2))\n",
    "\n",
    "model.add(Conv2D(filters = 32, padding = \"same\",activation = \"relu\",kernel_size=3))\n",
    "model.add(MaxPool2D(pool_size=(2,2),strides = 2))\n",
    "\n",
    "# model.add(Conv2D(filters = 32, padding = \"same\",activation = \"relu\",kernel_size=3))\n",
    "# model.add(MaxPool2D(pool_size=(2,2),strides = 2))\n",
    "\n",
    "model.add(Flatten())\n",
    "model.add(Dense(128,activation=\"relu\"))\n",
    "\n",
    "#Output layer\n",
    "model.add(Dense(1,kernel_regularizer=l2(0.01),activation = \"linear\"))"
   ]
  },
  {
   "cell_type": "code",
   "execution_count": 167,
   "id": "f2902e6e",
   "metadata": {
    "scrolled": true
   },
   "outputs": [
    {
     "name": "stdout",
     "output_type": "stream",
     "text": [
      "Model: \"sequential_16\"\n",
      "_________________________________________________________________\n",
      "Layer (type)                 Output Shape              Param #   \n",
      "=================================================================\n",
      "conv2d_32 (Conv2D)           (None, 16, 16, 32)        896       \n",
      "_________________________________________________________________\n",
      "max_pooling2d_32 (MaxPooling (None, 8, 8, 32)          0         \n",
      "_________________________________________________________________\n",
      "conv2d_33 (Conv2D)           (None, 8, 8, 32)          9248      \n",
      "_________________________________________________________________\n",
      "max_pooling2d_33 (MaxPooling (None, 4, 4, 32)          0         \n",
      "_________________________________________________________________\n",
      "flatten_16 (Flatten)         (None, 512)               0         \n",
      "_________________________________________________________________\n",
      "dense_32 (Dense)             (None, 128)               65664     \n",
      "_________________________________________________________________\n",
      "dense_33 (Dense)             (None, 1)                 129       \n",
      "=================================================================\n",
      "Total params: 75,937\n",
      "Trainable params: 75,937\n",
      "Non-trainable params: 0\n",
      "_________________________________________________________________\n"
     ]
    }
   ],
   "source": [
    "model.summary()"
   ]
  },
  {
   "cell_type": "code",
   "execution_count": 168,
   "id": "513ae99a",
   "metadata": {},
   "outputs": [],
   "source": [
    "model.compile(optimizer=\"adam\",loss=\"squared_hinge\", metrics = ['accuracy'])"
   ]
  },
  {
   "cell_type": "code",
   "execution_count": 169,
   "id": "43aa8600",
   "metadata": {
    "scrolled": true
   },
   "outputs": [
    {
     "name": "stdout",
     "output_type": "stream",
     "text": [
      "Epoch 1/15\n",
      "44/44 [==============================] - 1s 8ms/step - loss: 0.7865 - accuracy: 0.5807\n",
      "Epoch 2/15\n",
      "44/44 [==============================] - 0s 5ms/step - loss: 0.3147 - accuracy: 0.8579\n",
      "Epoch 3/15\n",
      "44/44 [==============================] - 0s 5ms/step - loss: 0.2360 - accuracy: 0.8893\n",
      "Epoch 4/15\n",
      "44/44 [==============================] - 0s 5ms/step - loss: 0.1614 - accuracy: 0.9250\n",
      "Epoch 5/15\n",
      "44/44 [==============================] - 0s 5ms/step - loss: 0.1649 - accuracy: 0.9343\n",
      "Epoch 6/15\n",
      "44/44 [==============================] - 0s 5ms/step - loss: 0.1527 - accuracy: 0.9321\n",
      "Epoch 7/15\n",
      "44/44 [==============================] - 0s 5ms/step - loss: 0.1217 - accuracy: 0.9450\n",
      "Epoch 8/15\n",
      "44/44 [==============================] - 0s 5ms/step - loss: 0.0925 - accuracy: 0.9521\n",
      "Epoch 9/15\n",
      "44/44 [==============================] - 0s 5ms/step - loss: 0.0650 - accuracy: 0.9700\n",
      "Epoch 10/15\n",
      "44/44 [==============================] - 0s 5ms/step - loss: 0.0632 - accuracy: 0.9721\n",
      "Epoch 11/15\n",
      "44/44 [==============================] - 0s 5ms/step - loss: 0.0587 - accuracy: 0.9729\n",
      "Epoch 12/15\n",
      "44/44 [==============================] - 0s 5ms/step - loss: 0.0444 - accuracy: 0.9779\n",
      "Epoch 13/15\n",
      "44/44 [==============================] - 0s 5ms/step - loss: 0.0306 - accuracy: 0.9857\n",
      "Epoch 14/15\n",
      "44/44 [==============================] - 0s 5ms/step - loss: 0.0275 - accuracy: 0.9907\n",
      "Epoch 15/15\n",
      "44/44 [==============================] - 0s 5ms/step - loss: 0.0575 - accuracy: 0.9771\n"
     ]
    }
   ],
   "source": [
    "result = model.fit(x_train,y_train,epochs=15)"
   ]
  },
  {
   "cell_type": "code",
   "execution_count": 170,
   "id": "8a99f9b2",
   "metadata": {},
   "outputs": [
    {
     "name": "stdout",
     "output_type": "stream",
     "text": [
      "Accuracy: 0.9266666666666666\n",
      "Precision: 1.0\n",
      "Recall: 0.8523489932885906\n",
      "F1-score: 0.9202898550724637\n"
     ]
    }
   ],
   "source": [
    "from sklearn.metrics import mean_squared_error\n",
    "from sklearn.metrics import accuracy_score, precision_score, recall_score, f1_score\n",
    "\n",
    "y_prob = model.predict(x_test)\n",
    "y_pred = np.where(y_prob[:len(x_test)] >= 0.5, 1, 0)\n",
    "\n",
    "accuracy = accuracy_score(y_test, y_pred)\n",
    "precision = precision_score(y_test, y_pred)\n",
    "recall = recall_score(y_test, y_pred)\n",
    "f1 = f1_score(y_test, y_pred)\n",
    "\n",
    "print(\"Accuracy:\", accuracy)\n",
    "print(\"Precision:\", precision)\n",
    "print(\"Recall:\", recall)\n",
    "print(\"F1-score:\", f1)"
   ]
  },
  {
   "cell_type": "code",
   "execution_count": 161,
   "id": "d6452c48",
   "metadata": {},
   "outputs": [],
   "source": [
    "model.save(\"plant_tomato_standAlone_BiGAN_svm.h5\")"
   ]
  },
  {
   "cell_type": "code",
   "execution_count": null,
   "id": "9bdb6ef1",
   "metadata": {},
   "outputs": [],
   "source": []
  }
 ],
 "metadata": {
  "kernelspec": {
   "display_name": "Python 3 (ipykernel)",
   "language": "python",
   "name": "python3"
  },
  "language_info": {
   "codemirror_mode": {
    "name": "ipython",
    "version": 3
   },
   "file_extension": ".py",
   "mimetype": "text/x-python",
   "name": "python",
   "nbconvert_exporter": "python",
   "pygments_lexer": "ipython3",
   "version": "3.9.16"
  }
 },
 "nbformat": 4,
 "nbformat_minor": 5
}
