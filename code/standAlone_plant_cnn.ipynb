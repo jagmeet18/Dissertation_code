{
 "cells": [
  {
   "cell_type": "code",
   "execution_count": 1,
   "id": "1fff8f44",
   "metadata": {},
   "outputs": [],
   "source": [
    "import numpy as np\n",
    "import keras\n",
    "from keras.models import Sequential\n",
    "from keras.layers import Conv2D, MaxPooling2D, Flatten, Dense"
   ]
  },
  {
   "cell_type": "code",
   "execution_count": 2,
   "id": "b8b86a70",
   "metadata": {},
   "outputs": [],
   "source": [
    "import os\n",
    "from os import listdir\n",
    "import gdown\n",
    "from zipfile import ZipFile\n",
    "import pickle\n",
    "import cv2\n",
    "from os import listdir"
   ]
  },
  {
   "cell_type": "code",
   "execution_count": 3,
   "id": "e21bcc4e",
   "metadata": {},
   "outputs": [],
   "source": [
    "from tensorflow.keras.utils import img_to_array\n",
    "def convert_image_to_array(image_dir):\n",
    "    try:\n",
    "        image = cv2.imread(image_dir)\n",
    "        if image is not None :\n",
    "            img_gan = cv2.resize(image, (32,32))\n",
    "            return img_to_array(img_gan)\n",
    "        else :\n",
    "            return np.array([])\n",
    "    except Exception as e:\n",
    "        print(f\"Error : {e}\")\n",
    "        return None\n",
    "    "
   ]
  },
  {
   "cell_type": "code",
   "execution_count": 85,
   "id": "6aba4ccc",
   "metadata": {
    "scrolled": true
   },
   "outputs": [],
   "source": [
    "\n",
    "def load_dataset(directory_root):\n",
    "#     directory_root = 'DCGAN_plant'\n",
    "    image_list_GAN, label_list = [], []\n",
    "    try:\n",
    "        print(\"[INFO] Loading images ...\")\n",
    "        root_dir = listdir(directory_root)\n",
    "        #print(root_dir)\n",
    "        for plant_folder in root_dir :\n",
    "            # remove .DS_Store from list\n",
    "            if plant_folder == \".DS_Store\" :\n",
    "                root_dir.remove(directory)\n",
    "\n",
    "\n",
    "        for plant_folder in root_dir :\n",
    "    #         print(\"on plant folder\")\n",
    "            plant_image_list = listdir(f\"{directory_root}/{plant_folder}\")\n",
    "\n",
    "\n",
    "\n",
    "            for single_image in plant_image_list :\n",
    "\n",
    "    #             print(\"in plant folder\")\n",
    "                if single_image == \".DS_Store\" :\n",
    "                    plant_image_list.remove(single_image)\n",
    "\n",
    "            for image in plant_image_list[:1000]:\n",
    "    #             print(\"getting img path\")\n",
    "                image_directory = f\"{directory_root}/{plant_folder}/{image}\"\n",
    "                if image_directory.endswith(\".jpg\") == True or image_directory.endswith(\".JPG\") == True or image_directory.endswith(\".png\") == True or image_directory.endswith(\".PNG\") == True:\n",
    "    #                 print(\"checking if img correct format\")\n",
    "                    gan_img = convert_image_to_array(image_directory)\n",
    "                    image_list_GAN.append(gan_img)\n",
    "                    label_list.append(plant_folder)\n",
    "\n",
    "        print(\"[INFO] Image loading completed\")  \n",
    "        return image_list_GAN, label_list\n",
    "    except Exception as e:\n",
    "        print(f\"Error : {e}\")\n",
    "\n",
    "#     try:\n",
    "#         print(\"[INFO] Loading images ...\")\n",
    "#         root_dir = listdir(directory_root)\n",
    "#         for directory in root_dir :\n",
    "#             # remove .DS_Store from list\n",
    "#             if directory == \".DS_Store\" :\n",
    "#                 root_dir.remove(directory)\n",
    "\n",
    "#         for plant_folder in root_dir :\n",
    "#             plant_disease_folder_list = listdir(f\"{directory_root}/{plant_folder}\")\n",
    "\n",
    "#             for disease_folder in plant_disease_folder_list :\n",
    "#                 # remove .DS_Store from list\n",
    "#                 if disease_folder == \".DS_Store\" :\n",
    "#                     plant_disease_folder_list.remove(disease_folder)\n",
    "\n",
    "#             for plant_disease_folder in plant_disease_folder_list:\n",
    "#                 print(f\"[INFO] Processing {plant_disease_folder} ...\")\n",
    "#                 plant_disease_image_list = listdir(f\"{directory_root}/{plant_folder}/{plant_disease_folder}/\")\n",
    "\n",
    "#                 for single_plant_disease_image in plant_disease_image_list :\n",
    "#                     if single_plant_disease_image == \".DS_Store\" :\n",
    "#                         plant_disease_image_list.remove(single_plant_disease_image)\n",
    "\n",
    "#                 for image in plant_disease_image_list[:1000]:\n",
    "#                     image_directory = f\"{directory_root}/{plant_folder}/{plant_disease_folder}/{image}\"\n",
    "#                     if image_directory.endswith(\".jpg\") == True or image_directory.endswith(\".JPG\") == True or image_directory.endswith(\".png\") == True or image_directory.endswith(\".PNG\") == True:\n",
    "#                         image_list_GAN.append(convert_image_to_array(image_directory))\n",
    "#                         label_list.append(plant_disease_folder)\n",
    "#         print(\"[INFO] Image loading completed\")  \n",
    "#         return image_list_GAN, label_list\n",
    "#     except Exception as e:\n",
    "#         print(f\"Error : {e}\")"
   ]
  },
  {
   "cell_type": "code",
   "execution_count": 42,
   "id": "bc5f823f",
   "metadata": {},
   "outputs": [
    {
     "name": "stdout",
     "output_type": "stream",
     "text": [
      "[INFO] Loading images ...\n",
      "[INFO] Processing cherry_healthy ...\n",
      "[INFO] Processing cherry_mildew ...\n",
      "[INFO] Processing Bell_pepper_Healthy ...\n",
      "[INFO] Processing Pepper__bell___Bacterial_spot ...\n",
      "[INFO] Processing potato_healthy ...\n",
      "[INFO] Processing potato_lightBlight ...\n",
      "[INFO] Processing strawberry_healthy ...\n",
      "[INFO] Processing strawberry_leafScorch ...\n",
      "[INFO] Processing tomato_bacterial_spot ...\n",
      "[INFO] Processing tomato_healthy ...\n",
      "[INFO] Image loading completed\n",
      "10000\n"
     ]
    }
   ],
   "source": [
    "orignal_img_list, orignal_label_list = load_dataset('Orignal_plant')\n",
    "print(len(orignal_img_list))"
   ]
  },
  {
   "cell_type": "code",
   "execution_count": 43,
   "id": "a2d07ef3",
   "metadata": {},
   "outputs": [
    {
     "name": "stdout",
     "output_type": "stream",
     "text": [
      "[INFO] Loading images ...\n",
      "[INFO] Processing cherry_healthy ...\n",
      "[INFO] Processing cherry_mildew ...\n",
      "[INFO] Processing Bell_pepper_Healthy ...\n",
      "[INFO] Processing Pepper__bell___Bacterial_spot ...\n",
      "[INFO] Processing potato_healthy ...\n",
      "[INFO] Processing potato_lightBlight ...\n",
      "[INFO] Processing strawberry_healthy ...\n",
      "[INFO] Processing strawberry_leafScorch ...\n",
      "[INFO] Processing tomato_bacterial_spot ...\n",
      "[INFO] Processing tomato_healthy ...\n",
      "[INFO] Image loading completed\n"
     ]
    }
   ],
   "source": [
    "GAN_image_list, GAN_label_list = load_dataset('DCGAN_plant')"
   ]
  },
  {
   "cell_type": "code",
   "execution_count": 44,
   "id": "239c4a39",
   "metadata": {},
   "outputs": [],
   "source": [
    "normalized_image_list_GAN = np.array(GAN_image_list, dtype = np.float16) / 255.0\n",
    "normalized_image_list_orignal = np.array(orignal_img_list, dtype = np.float16) / 255.0"
   ]
  },
  {
   "cell_type": "code",
   "execution_count": 67,
   "id": "63b9bb34",
   "metadata": {},
   "outputs": [
    {
     "name": "stdout",
     "output_type": "stream",
     "text": [
      "10\n",
      "[[0 0 1 ... 0 0 0]\n",
      " [0 0 1 ... 0 0 0]\n",
      " [0 0 1 ... 0 0 0]\n",
      " ...\n",
      " [0 0 0 ... 0 0 1]\n",
      " [0 0 0 ... 0 0 1]\n",
      " [0 0 0 ... 0 0 1]]\n"
     ]
    }
   ],
   "source": [
    "from sklearn.preprocessing import LabelBinarizer\n",
    "# # print(label_list)\n",
    "# label_gen = LabelBinarizer()\n",
    "# image_labels = label_gen.fit_transform(label_list)\n",
    "# pickle.dump(label_gen,open('label_transform.pkl', 'wb'))\n",
    "# n_classes = len(label_gen.classes_)\n",
    "# print(n_classes)\n",
    "# print(image_labels)\n",
    "\n",
    "# from sklearn.preprocessing import LabelEncoder\n",
    "# import pickle\n",
    "\n",
    "# # Assuming you have a list of labels in label_list\n",
    "# label_encoder = LabelEncoder()\n",
    "# image_labels = label_encoder.fit_transform(label_list)\n",
    "# pickle.dump(label_encoder, open('label_transform.pkl', 'wb'))\n",
    "# n_classes = len(label_encoder.classes_)\n",
    "# print(n_classes)\n",
    "# print(image_labels)label_binarizer = LabelBinarizer()\n",
    "\n",
    "label_gen = LabelBinarizer()\n",
    "image_labels_orignal = label_gen.fit_transform(orignal_label_list)\n",
    "pickle.dump(label_gen,open('label_transform.pkl', 'wb'))\n",
    "n_classes = len(label_gen.classes_)\n",
    "\n",
    "print(n_classes)\n",
    "print(image_labels_orignal)"
   ]
  },
  {
   "cell_type": "code",
   "execution_count": 68,
   "id": "1168563f",
   "metadata": {
    "scrolled": true
   },
   "outputs": [],
   "source": [
    "from sklearn.preprocessing import LabelEncoder\n",
    "from tensorflow.keras.utils import to_categorical\n",
    "\n",
    "# label_encoder = LabelEncoder()\n",
    "# image_labels_GAN = label_encoder.fit_transform(GAN_label_list)\n",
    "# n_classes = len(label_encoder.classes_)\n",
    "# print(n_classes)\n",
    "# print(image_labels_GAN)\n",
    "\n",
    "# # Convert the labels to one-hot encoded vectors\n",
    "# image_labels_GAN = to_categorical(image_labels_GAN, num_classes=n_classes)\n",
    "# print(image_labels_GAN[3000])"
   ]
  },
  {
   "cell_type": "code",
   "execution_count": 69,
   "id": "e2f925a2",
   "metadata": {},
   "outputs": [],
   "source": [
    "# label_encoder = LabelEncoder()\n",
    "# image_labels_orignal = label_encoder.fit_transform(orignal_label_list)\n",
    "# n_classes = len(label_encoder.classes_)\n",
    "# print(n_classes)\n",
    "# print(image_labels_orignal)\n",
    "\n",
    "# # Convert the labels to one-hot encoded vectors\n",
    "# image_labels_orignal = to_categorical(image_labels_orignal, num_classes=n_classes)\n",
    "# print(image_labels_orignal)"
   ]
  },
  {
   "cell_type": "code",
   "execution_count": 70,
   "id": "4322b642",
   "metadata": {},
   "outputs": [
    {
     "name": "stdout",
     "output_type": "stream",
     "text": [
      "making the training and testing split with 30% of the dataset as testing set\n"
     ]
    }
   ],
   "source": [
    "from sklearn.model_selection import train_test_split\n",
    "print(\"making the training and testing split with 30% of the dataset as testing set\")\n",
    "# GAN_x_train, GAN_x_test, GAN_y_train, GAN_y_test = train_test_split(normalized_image_list_GAN, image_labels_GAN, test_size=0.3, shuffle=True,random_state = 42)\n",
    "\n",
    "orignal_x_train, orignal_x_test, orignal_y_train, orignal_y_test = train_test_split(normalized_image_list_orignal, image_labels_orignal, test_size=0.3, shuffle=True,random_state = 42)\n"
   ]
  },
  {
   "cell_type": "code",
   "execution_count": 80,
   "id": "43d427eb",
   "metadata": {
    "scrolled": true
   },
   "outputs": [
    {
     "name": "stdout",
     "output_type": "stream",
     "text": [
      "Model: \"sequential_11\"\n",
      "_________________________________________________________________\n",
      "Layer (type)                 Output Shape              Param #   \n",
      "=================================================================\n",
      "conv2d_17 (Conv2D)           (None, 30, 30, 32)        896       \n",
      "_________________________________________________________________\n",
      "max_pooling2d_16 (MaxPooling (None, 15, 15, 32)        0         \n",
      "_________________________________________________________________\n",
      "conv2d_18 (Conv2D)           (None, 13, 13, 64)        18496     \n",
      "_________________________________________________________________\n",
      "max_pooling2d_17 (MaxPooling (None, 6, 6, 64)          0         \n",
      "_________________________________________________________________\n",
      "flatten_8 (Flatten)          (None, 2304)              0         \n",
      "_________________________________________________________________\n",
      "dense_16 (Dense)             (None, 128)               295040    \n",
      "_________________________________________________________________\n",
      "dense_17 (Dense)             (None, 10)                1290      \n",
      "=================================================================\n",
      "Total params: 315,722\n",
      "Trainable params: 315,722\n",
      "Non-trainable params: 0\n",
      "_________________________________________________________________\n"
     ]
    }
   ],
   "source": [
    "from keras.utils.np_utils import to_categorical\n",
    "\n",
    "# # Define the input shape of the images\n",
    "# input_shape = (32, 32, 3)\n",
    "\n",
    "# # Initialize the model\n",
    "# model = Sequential()\n",
    "\n",
    "# # Add the first convolutional layer\n",
    "# model.add(Conv2D(32, kernel_size=(3, 3), activation='relu', input_shape=input_shape))\n",
    "\n",
    "# # Add the max pooling layer\n",
    "# model.add(MaxPooling2D(pool_size=(2, 2)))\n",
    "\n",
    "# # Add the second convolutional layer\n",
    "# model.add(Conv2D(64, kernel_size=(3, 3), activation='relu'))\n",
    "\n",
    "# # Add the max pooling layer\n",
    "# model.add(MaxPooling2D(pool_size=(2, 2)))\n",
    "\n",
    "# # Add the flatten layer\n",
    "# model.add(Flatten())\n",
    "\n",
    "# # Add the dense layer\n",
    "# model.add(Dense(128, activation='relu'))\n",
    "\n",
    "# # Add the output layer\n",
    "# model.add(Dense(10, activation='sigmoid'))\n",
    "\n",
    "# # Compile the model\n",
    "# model.compile(loss='binary_crossentropy', optimizer='adam', metrics=['accuracy'])\n",
    "\n",
    "# # Print the summary of the model architecture\n",
    "# model.summary()\n",
    "\n",
    "# Define the input shape of the images\n",
    "input_shape = (32, 32, 3)\n",
    "\n",
    "# Initialize the model\n",
    "model = Sequential()\n",
    "\n",
    "# Add the first convolutional layer\n",
    "model.add(Conv2D(32, kernel_size=(3, 3), activation='relu', input_shape=input_shape))\n",
    "\n",
    "# Add the max pooling layer\n",
    "model.add(MaxPooling2D(pool_size=(2, 2)))\n",
    "\n",
    "# Add the second convolutional layer\n",
    "model.add(Conv2D(64, kernel_size=(3, 3), activation='relu'))\n",
    "\n",
    "# Add the max pooling layer\n",
    "model.add(MaxPooling2D(pool_size=(2, 2)))\n",
    "\n",
    "# Add the flatten layer\n",
    "model.add(Flatten())\n",
    "\n",
    "# Add the dense layer\n",
    "model.add(Dense(128, activation='relu'))\n",
    "\n",
    "# Add the output layer\n",
    "num_classes = 10\n",
    "model.add(Dense(num_classes, activation='softmax'))\n",
    "\n",
    "# Compile the model\n",
    "model.compile(loss='categorical_crossentropy', optimizer='adam', metrics=['accuracy'])\n",
    "\n",
    "# Print the summary of the model architecture\n",
    "model.summary()\n",
    "\n"
   ]
  },
  {
   "cell_type": "code",
   "execution_count": null,
   "id": "f2f18814",
   "metadata": {
    "scrolled": true
   },
   "outputs": [
    {
     "name": "stdout",
     "output_type": "stream",
     "text": [
      "Epoch 1/10\n",
      "438/438 [==============================] - 2s 5ms/step - loss: 1.3678 - accuracy: 0.5296\n",
      "Epoch 2/10\n",
      "438/438 [==============================] - 2s 4ms/step - loss: 0.6671 - accuracy: 0.7889\n",
      "Epoch 3/10\n",
      "438/438 [==============================] - 2s 4ms/step - loss: 0.4016 - accuracy: 0.8749\n",
      "Epoch 4/10\n",
      "408/438 [==========================>...] - ETA: 0s - loss: 0.3098 - accuracy: 0.9021"
     ]
    }
   ],
   "source": [
    "# Train the model\n",
    "model.fit(orignal_x_train, orignal_y_train, epochs=10, batch_size=16)\n"
   ]
  },
  {
   "cell_type": "code",
   "execution_count": 76,
   "id": "5836e76a",
   "metadata": {
    "scrolled": true
   },
   "outputs": [
    {
     "name": "stdout",
     "output_type": "stream",
     "text": [
      "Accuracy: 91.26666666666667\n",
      "Precision: 93.56381907474956\n",
      "Recall: 91.23509284139122\n",
      "F1-score: 92.15174667351779\n"
     ]
    }
   ],
   "source": [
    "from sklearn.metrics import mean_squared_error\n",
    "from sklearn.metrics import accuracy_score, precision_score, recall_score, f1_score\n",
    "from sklearn.metrics import confusion_matrix\n",
    "\n",
    "y_pred = model.predict(orignal_x_test)\n",
    "\n",
    "y_pred_binary = np.where(y_pred > 0.5, 1, 0)\n",
    "# y_pred_classes = np.argmax(y_pred, axis=1)\n",
    "\n",
    "# Calculate the true labels for the test set\n",
    "y_true = orignal_y_test\n",
    "\n",
    "accuracy = accuracy_score(orignal_y_test, y_pred_binary)\n",
    "precision = precision_score(orignal_y_test, y_pred_binary, average='macro')\n",
    "recall = recall_score(orignal_y_test, y_pred_binary, average='macro')\n",
    "f1 = f1_score(orignal_y_test, y_pred_binary, average='macro')\n",
    "# conf_matrix = confusion_matrix(y_test, y_pred_binary)\n",
    "\n",
    "\n",
    "print(\"Accuracy:\", accuracy * 100)\n",
    "print(\"Precision:\", precision * 100)\n",
    "print(\"Recall:\", recall * 100)\n",
    "print(\"F1-score:\", f1 * 100)"
   ]
  },
  {
   "cell_type": "code",
   "execution_count": 26,
   "id": "b118dfbc",
   "metadata": {
    "scrolled": true
   },
   "outputs": [
    {
     "name": "stdout",
     "output_type": "stream",
     "text": [
      "Confusion matrix:\n",
      " [[[2669   43]\n",
      "  [  17  271]]\n",
      "\n",
      " [[2672   26]\n",
      "  [  41  261]]\n",
      "\n",
      " [[2682    0]\n",
      "  [  66  252]]\n",
      "\n",
      " [[2656   36]\n",
      "  [   8  300]]\n",
      "\n",
      " [[2650   18]\n",
      "  [  57  275]]\n",
      "\n",
      " [[2704   20]\n",
      "  [  47  229]]\n",
      "\n",
      " [[2682   29]\n",
      "  [   2  287]]\n",
      "\n",
      " [[2709    5]\n",
      "  [   9  277]]\n",
      "\n",
      " [[2652   16]\n",
      "  [  11  321]]\n",
      "\n",
      " [[2722    9]\n",
      "  [   1  268]]]\n"
     ]
    }
   ],
   "source": [
    "from sklearn.metrics import accuracy_score, confusion_matrix\n",
    "from sklearn.preprocessing import label_binarize\n",
    "from sklearn.metrics import multilabel_confusion_matrix\n",
    "# Compute confusion matrix\n",
    "cm = multilabel_confusion_matrix(y_true, y_pred_binary)\n",
    "# Print confusion matrix\n",
    "print(\"Confusion matrix:\\n\", cm)\n",
    "\n",
    "\n",
    "\n"
   ]
  },
  {
   "cell_type": "code",
   "execution_count": 11,
   "id": "2e8edb00",
   "metadata": {},
   "outputs": [],
   "source": [
    "# model.save('Enhanced_strawberry_LSGAN.h5')"
   ]
  },
  {
   "cell_type": "code",
   "execution_count": null,
   "id": "5c36bb44",
   "metadata": {},
   "outputs": [],
   "source": []
  }
 ],
 "metadata": {
  "kernelspec": {
   "display_name": "Python 3 (ipykernel)",
   "language": "python",
   "name": "python3"
  },
  "language_info": {
   "codemirror_mode": {
    "name": "ipython",
    "version": 3
   },
   "file_extension": ".py",
   "mimetype": "text/x-python",
   "name": "python",
   "nbconvert_exporter": "python",
   "pygments_lexer": "ipython3",
   "version": "3.9.16"
  }
 },
 "nbformat": 4,
 "nbformat_minor": 5
}
